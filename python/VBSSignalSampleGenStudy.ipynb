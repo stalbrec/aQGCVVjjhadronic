{
 "cells": [
  {
   "cell_type": "code",
   "execution_count": 1,
   "metadata": {},
   "outputs": [
    {
     "name": "stdout",
     "output_type": "stream",
     "text": [
      "Welcome to JupyROOT 6.12/07\n"
     ]
    }
   ],
   "source": [
    "from DataFormats.FWLite import Handle, Events\n",
    "from __future__ import print_function\n",
    "import numpy as np\n",
    "import ROOT"
   ]
  },
  {
   "cell_type": "code",
   "execution_count": 3,
   "metadata": {},
   "outputs": [],
   "source": [
    "import json\n",
    "vbs_sm_nanoaod_files = json.load(open('../data/vbs_hadronic_sm_nanoaodv2_noext.json'))\n",
    "redirector = 'root://xrootd-cms.infn.it/'\n",
    "osWW_files = {year : [redirector + s for s in vbs_sm_nanoaod_files['samples']['WPJJWMJJjj'][year]] for year in ['16','17','18']}\n"
   ]
  },
  {
   "cell_type": "code",
   "execution_count": 4,
   "metadata": {},
   "outputs": [],
   "source": [
    "events = Events(osWW_files['17'])\n"
   ]
  },
  {
   "cell_type": "code",
   "execution_count": 7,
   "metadata": {},
   "outputs": [
    {
     "data": {
      "text/plain": [
       "u'root://xrootd-cms.infn.it//store/mc/RunIISummer19UL17NanoAODv2/WPJJWMJJjj_EWK_LO_TuneCP5_13TeV-madgraph-pythia8/NANOAODSIM/106X_mc2017_realistic_v8-v1/40000/8A191680-B7D5-D34F-81EC-706597A51DDC.root'"
      ]
     },
     "execution_count": 7,
     "metadata": {},
     "output_type": "execute_result"
    }
   ],
   "source": [
    "osWW_files['17'][0]"
   ]
  },
  {
   "cell_type": "code",
   "execution_count": null,
   "metadata": {},
   "outputs": [],
   "source": []
  }
 ],
 "metadata": {
  "kernelspec": {
   "display_name": "MyCMSSW-Kernel",
   "language": "python",
   "name": "mycmssw-kernel"
  },
  "language_info": {
   "codemirror_mode": {
    "name": "ipython",
    "version": 2
   },
   "file_extension": ".py",
   "mimetype": "text/x-python",
   "name": "python",
   "nbconvert_exporter": "python",
   "pygments_lexer": "ipython2",
   "version": "2.7.14+"
  }
 },
 "nbformat": 4,
 "nbformat_minor": 4
}
